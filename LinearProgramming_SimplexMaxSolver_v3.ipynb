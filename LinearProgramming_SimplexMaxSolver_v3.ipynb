{
 "cells": [
  {
   "cell_type": "code",
   "execution_count": 1,
   "metadata": {},
   "outputs": [],
   "source": [
    "import pulp as lp\n",
    "import numpy as np\n",
    "\n",
    "# set precision\n",
    "np.set_printoptions(precision=1, suppress=True)"
   ]
  },
  {
   "cell_type": "code",
   "execution_count": 67,
   "metadata": {},
   "outputs": [],
   "source": [
    "def simplexMaxSolver(M, numVar = 2):\n",
    "    # print(f'\\nOriginal M: \\n{M}.')\n",
    "    # convert M\n",
    "    M[-1,:] = -M[-1,:]\n",
    "    nrows, ncols = M.shape[:2]\n",
    "    eI = np.eye(nrows)\n",
    "\n",
    "    M = np.hstack([M,eI])\n",
    "    M[:,[numVar, -1]] = M[:,[-1, numVar]]\n",
    "    \n",
    "    # print(f'\\nExpanded M: \\n{M}.')\n",
    "    \n",
    "    # get the number of rows in this matrix\n",
    "    num_rows = M.shape[0]\n",
    "    \n",
    "    # get the objective row\n",
    "    obj_init = M[-1,:-1].copy()    \n",
    "    obj = obj_init.copy()\n",
    "    \n",
    "    # constract a list of variables\n",
    "    Vars = ['x' + str(i+1) for i in range(numVar)]\n",
    "    \n",
    "    # construct an objective statement\n",
    "    obj_string = '\\nThe objective is to maximize this equation: ' + ' + '.join([str(-obj_init[i]) + ' * ' + Vars[i] for i in range(numVar)])\n",
    "    print(obj_string)     \n",
    "    \n",
    "    # if there is any negative value in the objective row\n",
    "    while np.sum(obj<0)!=0:        \n",
    "\n",
    "        # find the col index of the most negative coefficient in the objetive row\n",
    "        col_indx = np.argwhere(obj==obj.min())[0,0]\n",
    "\n",
    "        # find the ratio between the last column and the pivot column for constraint rows\n",
    "        ratio = M[:-1, -1]/M[:-1, col_indx]\n",
    "\n",
    "        # find the pivot row where the ratio is the smallest\n",
    "        row_indx = np.argwhere(ratio==ratio.min())[0,0]\n",
    "\n",
    "        # normalize the pivot row based on the pivot column\n",
    "        M[row_indx,:] = M[row_indx,:]/M[row_indx,col_indx]\n",
    "\n",
    "        # move the pivot row to the top\n",
    "        M[[0, row_indx]] = M[[row_indx, 0]] \n",
    "\n",
    "        # make the pivot column of other rows to zero by adding a multiplication of the pivot row\n",
    "        for i in range(1,num_rows):\n",
    "            M[i,:] = M[i,:] - M[i, col_indx]/M[0, col_indx] * M[0,:]\n",
    "\n",
    "        # re-initiate the objective row\n",
    "        obj = M[-1,:-1]\n",
    "\n",
    "    # get the maximized objective value\n",
    "    obj_value = M[-1,-1]\n",
    "    \n",
    "    # print(M)\n",
    "\n",
    "    # get the varible values\n",
    "    var_vals = []\n",
    "    for i in range(numVar):\n",
    "        var_vals.append(M[M[:,i]==1][0,-1])\n",
    "\n",
    "    print(f'\\nThe final optimized maximum objective value: {obj_value}; Variable values: {var_vals}.')\n",
    "    \n",
    "    # construct the final statement\n",
    "    final_statement = ' + '.join([str(-obj_init[i]) + ' * ' + str(var_vals[i]) for i in range(numVar)]) + \" = \" + str(obj_value)\n",
    "    \n",
    "    print(f'\\nFinal result: \\t{final_statement}')  \n",
    "\n",
    "    return var_vals, obj_value"
   ]
  },
  {
   "cell_type": "markdown",
   "metadata": {},
   "source": [
    "### Example 1"
   ]
  },
  {
   "cell_type": "code",
   "execution_count": 68,
   "metadata": {
    "scrolled": true
   },
   "outputs": [
    {
     "name": "stdout",
     "output_type": "stream",
     "text": [
      "D = 252.0\n",
      "S = 540.0\n",
      "\n",
      "Maximum profit: 7668.0.\n"
     ]
    }
   ],
   "source": [
    "# problem statement\n",
    "# Maximize:\n",
    "#     10 * S + 9 * D\n",
    "\n",
    "# constraints:\n",
    "#     7/10 * S + D <= 630\n",
    "#     1/2 * S + 5/6 * D <= 600\n",
    "#     1 * S + 2/3 * D <= 708\n",
    "#     1/10 * S + 1/4 * D <= 135\n",
    "\n",
    "\n",
    "M = np.array([[7/10, 1, 630], \n",
    "              [1/2, 5/6, 600],\n",
    "              [1, 2/3, 708], \n",
    "              [1/10, 1/4, 135], \n",
    "              [10, 9, 0]])\n",
    "\n",
    "D = lp.LpVariable('D', lowBound=0)\n",
    "S = lp.LpVariable('S', lowBound=0)\n",
    "\n",
    "# create a maximization problem\n",
    "profit = lp.LpProblem('Maximum_Profit', lp.LpMaximize)\n",
    "\n",
    "# objective function\n",
    "\n",
    "profit += 10 * S + 9 * D\n",
    "\n",
    "# add constraints\n",
    "profit += 7/10 * S + D <= 630\n",
    "\n",
    "profit += 1/2 * S + 5/6 * D <= 600\n",
    "\n",
    "profit += 1 * S + 2/3 * D <= 708\n",
    "\n",
    "profit += 1/10 * S + 1/4 * D <= 135\n",
    "\n",
    "# solve\n",
    "\n",
    "status = profit.solve()\n",
    "\n",
    "for variable in profit.variables():\n",
    "    print(variable.name, '=', variable.value())\n",
    "\n",
    "print(f'\\nMaximum profit: {profit.objective.value()}.')"
   ]
  },
  {
   "cell_type": "code",
   "execution_count": 69,
   "metadata": {},
   "outputs": [
    {
     "name": "stdout",
     "output_type": "stream",
     "text": [
      "\n",
      "The objective is to maximize this equation: 10.0 * x1 + 9.0 * x2\n",
      "\n",
      "The final optimized maximum objective value: 7668.0; Variable values: [540.0, 252.00000000000003].\n",
      "\n",
      "Final result: \t10.0 * 540.0 + 9.0 * 252.00000000000003 = 7668.0\n"
     ]
    },
    {
     "data": {
      "text/plain": [
       "([540.0, 252.00000000000003], 7668.0)"
      ]
     },
     "execution_count": 69,
     "metadata": {},
     "output_type": "execute_result"
    }
   ],
   "source": [
    "# use my own defined solver\n",
    "\n",
    "# M = np.array([[7/10, 1, 630], \n",
    "#               [1/2, 5/6, 600], \n",
    "#               [1, 2/3, 708], \n",
    "#               [1/10, 1/4, 135], \n",
    "#               [10, 9, 0]])\n",
    "\n",
    "M = np.array([[7/10, 1, 630], \n",
    "              [1/2, 5/6, 600],\n",
    "              [1, 2/3, 708], \n",
    "              [1/10, 1/4, 135], \n",
    "              [10, 9, 0]])\n",
    "\n",
    "simplexMaxSolver(M, numVar = 2)"
   ]
  },
  {
   "cell_type": "markdown",
   "metadata": {},
   "source": [
    "### Example 2"
   ]
  },
  {
   "cell_type": "code",
   "execution_count": 70,
   "metadata": {
    "scrolled": true
   },
   "outputs": [
    {
     "name": "stdout",
     "output_type": "stream",
     "text": [
      "x1 = 6.0\n",
      "x2 = 12.0\n",
      "\n",
      "Maximum profit: 78.0.\n"
     ]
    }
   ],
   "source": [
    "# Reference: https://www.youtube.com/watch?v=rzRZLGD_aeE\n",
    "# problem statement\n",
    "# Maximize:\n",
    "#     z = 5 * x1 + 4 * x2\n",
    "\n",
    "# constraints:\n",
    "#     3 * x1 + 5 * x2 <= 78\n",
    "#     4 * x1 + x2  <= 36\n",
    "\n",
    "M = np.array([[3, 5, 78],\n",
    "             [4, 1, 36],\n",
    "             [5, 4, 0]])\n",
    "\n",
    "# Solving with PuLP\n",
    "x1 = lp.LpVariable('x1', lowBound=0)\n",
    "x2 = lp.LpVariable('x2', lowBound=0)\n",
    "\n",
    "# create a maximization problem\n",
    "profit = lp.LpProblem('Maximum_Profit', lp.LpMaximize)\n",
    "\n",
    "# objective function\n",
    "\n",
    "profit += 5 * x1 + 4 * x2\n",
    "\n",
    "# add constraints\n",
    "profit += 3 * x1 + 5 * x2 <= 78\n",
    "\n",
    "profit += 4 * x1 + x2  <= 36\n",
    "\n",
    "\n",
    "# solve\n",
    "\n",
    "status = profit.solve()\n",
    "\n",
    "# print(f'\\nx1: {lp.value(x1)}; \\tx2: {lp.value(x2)}.')\n",
    "\n",
    "for variable in profit.variables():\n",
    "    print(variable.name, '=', variable.value())\n",
    "\n",
    "print(f'\\nMaximum profit: {profit.objective.value()}.')"
   ]
  },
  {
   "cell_type": "code",
   "execution_count": 71,
   "metadata": {},
   "outputs": [
    {
     "name": "stdout",
     "output_type": "stream",
     "text": [
      "\n",
      "The objective is to maximize this equation: 5.0 * x1 + 4.0 * x2\n",
      "\n",
      "The final optimized maximum objective value: 78.0; Variable values: [6.0, 12.0].\n",
      "\n",
      "Final result: \t5.0 * 6.0 + 4.0 * 12.0 = 78.0\n"
     ]
    },
    {
     "data": {
      "text/plain": [
       "([6.0, 12.0], 78.0)"
      ]
     },
     "execution_count": 71,
     "metadata": {},
     "output_type": "execute_result"
    }
   ],
   "source": [
    "# use my own defined solver\n",
    "\n",
    "M = np.array([[3, 5, 78],\n",
    "             [4, 1, 36],\n",
    "             [5, 4, 0]])\n",
    "\n",
    "simplexMaxSolver(M, numVar = 2)"
   ]
  },
  {
   "cell_type": "code",
   "execution_count": null,
   "metadata": {},
   "outputs": [],
   "source": []
  }
 ],
 "metadata": {
  "kernelspec": {
   "display_name": "Python 3",
   "language": "python",
   "name": "python3"
  },
  "language_info": {
   "codemirror_mode": {
    "name": "ipython",
    "version": 3
   },
   "file_extension": ".py",
   "mimetype": "text/x-python",
   "name": "python",
   "nbconvert_exporter": "python",
   "pygments_lexer": "ipython3",
   "version": "3.7.6"
  }
 },
 "nbformat": 4,
 "nbformat_minor": 4
}
